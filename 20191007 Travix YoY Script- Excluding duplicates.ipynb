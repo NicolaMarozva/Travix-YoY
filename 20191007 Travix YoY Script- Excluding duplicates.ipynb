{
 "cells": [
  {
   "cell_type": "markdown",
   "metadata": {},
   "source": [
    "# Notebook objectives:\n",
    "Create a file that can be used for:\n",
    "- Comparing yearly, weekly ins attachment rate and RPF\n",
    "- Comparing yearly, monthly ins attachment rate and RPF"
   ]
  },
  {
   "cell_type": "markdown",
   "metadata": {},
   "source": [
    "# Change log"
   ]
  },
  {
   "cell_type": "markdown",
   "metadata": {},
   "source": [
    "- 2019/01/14 - NM - Included a column that indicates if customers' residency is NL or not\n",
    "- 2019/01/14 - NM - Renamed cancelled orders Phase 1&2 variable \n",
    "- 2019/08/07 - NM - Rename column Travix_booking to distributor_purchase so that it can be more generic\n",
    "- 2019/08/07 - NM - Changed BI_drive network export location as Travix different channels files were moved to one folder \n",
    "- 2019/08/12 - NM - Removing duplicated rows in Travix data as a result of insurance purchasers column indicating an additional row with admin cost of 0  and insurance premium cost as the sum of premium and admin cost\n",
    "- 2019/08/27 - MW - Update BI server IP address from 192.168.140.69 to 192.168.8.142 \n",
    "- 2019/09/18 -NM - Change location from which the data is imported to local computer while waiting for BI drive to be     updated\n",
    "- 2019/09/18 - NM - Update BI server IP address from 192.168.0.112 to 192.168.140.130\n",
    "- 2019/09/20 -NM - Changed the code for exporting Travix data such that it merge all Travix datadump gz folders in Hepstar files into one\n"
   ]
  },
  {
   "cell_type": "markdown",
   "metadata": {},
   "source": [
    "# Preparation"
   ]
  },
  {
   "cell_type": "markdown",
   "metadata": {},
   "source": [
    "## Import packages and data"
   ]
  },
  {
   "cell_type": "code",
   "execution_count": 1,
   "metadata": {},
   "outputs": [],
   "source": [
    "import numpy as np\n",
    "import pandas as pd\n",
    "from datetime import date\n",
    "import glob\n",
    "import errno\n",
    "import os"
   ]
  },
  {
   "cell_type": "markdown",
   "metadata": {},
   "source": [
    "# Data location Nicola\n",
    "input_local = r'C:\\\\Users\\\\dataintern.HEPSTAR\\\\Documents\\\\Data Intern NM\\\\# Travix\\\\# YoY\\\\# Input\\\\'\n",
    "export_local = r'C:\\\\Users\\\\dataintern.HEPSTAR\\\\Documents\\\\Data Intern NM\\\\\\# Travix\\\\# YoY\\\\# Output\\\\'"
   ]
  },
  {
   "cell_type": "code",
   "execution_count": 2,
   "metadata": {},
   "outputs": [],
   "source": [
    "# Set working directory to export location, for consequent data exports\n",
    "# Name local external folder location\n",
    "export_folder_name = os.getcwd() + '\\\\data'\n",
    "\n",
    "# Create export folder based on specified name. Skip if already exists\n",
    "try:\n",
    "    os.mkdir(export_folder_name)\n",
    "except OSError as exc:\n",
    "    if exc.errno != errno.EEXIST:\n",
    "        raise\n",
    "    pass"
   ]
  },
  {
   "cell_type": "code",
   "execution_count": 3,
   "metadata": {},
   "outputs": [],
   "source": [
    "# Set working directory for interim location, for consequent data inputs\n",
    "# Name local input folder location\n",
    "interim_folder_name = os.getcwd() + '\\\\data\\\\interim'\n",
    "\n",
    "# Create input folder based on specified name. Skip if already exists\n",
    "try:\n",
    "    os.mkdir(interim_folder_name)\n",
    "except OSError as exc:\n",
    "    if exc.errno != errno.EEXIST:\n",
    "        raise\n",
    "    pass"
   ]
  },
  {
   "cell_type": "code",
   "execution_count": 4,
   "metadata": {},
   "outputs": [],
   "source": [
    "# Set working directory to export location, for consequent data exports\n",
    "# Name local external folder location\n",
    "export_folder_name = os.getcwd() + '\\\\data\\\\external'\n",
    "## Remove # before folder name\n",
    "\n",
    "# Create export folder based on specified name. Skip if already exists\n",
    "try:\n",
    "    os.mkdir(export_folder_name)\n",
    "except OSError as exc:\n",
    "    if exc.errno != errno.EEXIST:\n",
    "        raise\n",
    "    pass"
   ]
  },
  {
   "cell_type": "code",
   "execution_count": 4,
   "metadata": {},
   "outputs": [],
   "source": [
    "# Network locations for data import & export\n",
    "input_TravixDatadump_BI = r'\\\\192.168.140.37\\Business-Share\\bi-report\\\\Data analysis resources\\\\Travix\\\\DatadumpTravix\\\\'\n",
    "export_BI_drive= r'\\\\192.168.140.37\\\\Business-Share\\\\BI resources\\\\Dashboards\\\\Travix\\\\# Travix NL\\\\# Data\\\\'"
   ]
  },
  {
   "cell_type": "markdown",
   "metadata": {},
   "source": [
    "##Data location Michiel\n",
    "input_local = r'C:\\\\Users\\\\michiel.HEPSTAR\\\\Documents\\\\Hepstar data analysis\\\\Travix data\\\\20180801 Travix y2y segmentation\\\\# input\\\\'\n",
    "export_local = r'C:\\\\Users\\\\michiel.HEPSTAR\\\\Documents\\\\Hepstar data analysis\\\\Travix data\\\\20180801 Travix y2y segmentation\\\\# output\\\\'\n",
    "bireport_export= r'\\\\hepstar-files\\\\Business-Share\\\\bi-report\\Dashboards\\\\Travix NL\\\\Data\\\\'"
   ]
  },
  {
   "cell_type": "code",
   "execution_count": 5,
   "metadata": {
    "code_folding": []
   },
   "outputs": [],
   "source": [
    "# Import data\n",
    "#travix_df = pd.read_csv(input_TravixDatadump_BI +'hepstar_export.csv.gz', compression='gzip',low_memory=False)\n",
    "# Import Travix data\n",
    "# Determine files to import from Hepstar files server\n",
    "AllData = glob.glob(input_TravixDatadump_BI + \"/*.gz\")\n",
    "# Merge all Travix datadumps into one\n",
    "Travix_data_df = pd.concat((pd.read_csv(f,compression='gzip',low_memory=False) for f in AllData))"
   ]
  },
  {
   "cell_type": "code",
   "execution_count": 6,
   "metadata": {},
   "outputs": [],
   "source": [
    "#Select only Channels of interest so that the script does not take long to run\n",
    "travix_df=Travix_data_df.loc[Travix_data_df['Brand'].isin(['CHEAPTICKETSNL','BUDGETAIR','VLIEGWINKEL','BUDGETAIRCA'])]\n",
    "#make a copy of the data\n",
    "travix_df=travix_df.copy()"
   ]
  },
  {
   "cell_type": "code",
   "execution_count": 7,
   "metadata": {},
   "outputs": [
    {
     "data": {
      "text/plain": [
       "Timestamp('2018-05-29 00:00:00')"
      ]
     },
     "execution_count": 7,
     "metadata": {},
     "output_type": "execute_result"
    }
   ],
   "source": [
    "# Select data range starting from the time we went live\n",
    "Start_date = ('2018-05-29 00:00:00')\n",
    "Start_date = pd.to_datetime(Start_date)\n",
    "Start_date"
   ]
  },
  {
   "cell_type": "code",
   "execution_count": 8,
   "metadata": {},
   "outputs": [
    {
     "data": {
      "text/plain": [
       "HEPSTAR-CANCELLATION          27206\n",
       "CANCELLATION-INSURANCE        13132\n",
       "Cancellation Insurance         7269\n",
       "HEPSTAR-TRAVELCANCELLATION     5467\n",
       "HEPSTAR-TRAVEL                 5056\n",
       "TRAVEL-INSURANCE               2900\n",
       "COMBINED-INSURANCE             2898\n",
       "Travel Insurance               2022\n",
       "COMBINED INSURANCE CANADA       702\n",
       "EXTRAS                          218\n",
       "reissverzekering                  1\n",
       "Name: PolicyType, dtype: int64"
      ]
     },
     "execution_count": 8,
     "metadata": {},
     "output_type": "execute_result"
    }
   ],
   "source": [
    "travix_df['PolicyType'].value_counts()"
   ]
  },
  {
   "cell_type": "markdown",
   "metadata": {},
   "source": [
    "# Data Cleaning"
   ]
  },
  {
   "cell_type": "code",
   "execution_count": 9,
   "metadata": {},
   "outputs": [],
   "source": [
    "#Excluding time from the Order Date and changing orderdate to date format\n",
    "travix_df['OrderDateUTC'] = pd.to_datetime(travix_df['OrderDateUTC'],infer_datetime_format=True,exact=False).dt.date\n",
    "travix_df['OrderDateUTC'] = pd.to_datetime(travix_df['OrderDateUTC'])"
   ]
  },
  {
   "cell_type": "code",
   "execution_count": 10,
   "metadata": {},
   "outputs": [
    {
     "data": {
      "text/plain": [
       "Timestamp('2018-01-01 00:00:00')"
      ]
     },
     "execution_count": 10,
     "metadata": {},
     "output_type": "execute_result"
    }
   ],
   "source": [
    "#Check the maximum date in the dataset\n",
    "travix_df['OrderDateUTC'].min()"
   ]
  },
  {
   "cell_type": "code",
   "execution_count": 11,
   "metadata": {},
   "outputs": [],
   "source": [
    "#make a copy of the dataset\n",
    "travix_base_df=travix_df.copy()"
   ]
  },
  {
   "cell_type": "code",
   "execution_count": 12,
   "metadata": {},
   "outputs": [],
   "source": [
    "#Removing duplicated rows in Travix data as a result of insurance purchasers column indicating an additional row with total premium and admin cost  \n",
    "#Create a column that indicates duplicates by ordernumber \n",
    "travix_base_df['Dups'] = travix_base_df.duplicated(subset=['OrderNumber'], keep=False).astype(int).astype(str)"
   ]
  },
  {
   "cell_type": "code",
   "execution_count": 13,
   "metadata": {},
   "outputs": [],
   "source": [
    "# Remove duplicated insurance purchase information\n",
    "travix_base_df.drop(travix_base_df[(travix_base_df['PolicyNumber'].notnull()) & (travix_base_df['InsuranceCost_AdministrativeCost']==0) & (travix_base_df['Dups']=='1')].index, inplace=True)"
   ]
  },
  {
   "cell_type": "markdown",
   "metadata": {},
   "source": [
    "## Removing incomplete last day"
   ]
  },
  {
   "cell_type": "code",
   "execution_count": 14,
   "metadata": {},
   "outputs": [
    {
     "data": {
      "text/plain": [
       "Timestamp('2019-10-28 00:00:00')"
      ]
     },
     "execution_count": 14,
     "metadata": {},
     "output_type": "execute_result"
    }
   ],
   "source": [
    "# end date report\n",
    "End_date = travix_base_df['OrderDateUTC'].max()\n",
    "End_date"
   ]
  },
  {
   "cell_type": "code",
   "execution_count": 15,
   "metadata": {},
   "outputs": [],
   "source": [
    "# Remove incomplete last day in a dataset\n",
    "travix_base_df=travix_base_df[travix_base_df['OrderDateUTC']< End_date]"
   ]
  },
  {
   "cell_type": "code",
   "execution_count": 16,
   "metadata": {
    "scrolled": true
   },
   "outputs": [
    {
     "data": {
      "text/plain": [
       "Timestamp('2019-10-27 00:00:00')"
      ]
     },
     "execution_count": 16,
     "metadata": {},
     "output_type": "execute_result"
    }
   ],
   "source": [
    "#Check maximum date after removing incomplete last date\n",
    "travix_base_df['OrderDateUTC'].max()"
   ]
  },
  {
   "cell_type": "markdown",
   "metadata": {},
   "source": [
    "## Selecting NL brand only"
   ]
  },
  {
   "cell_type": "code",
   "execution_count": 17,
   "metadata": {
    "code_folding": []
   },
   "outputs": [],
   "source": [
    "#Limit data to NL brand only\n",
    "#travix_base_df=travix_base_df[travix_base_df['Brand'].isin(['CHEAPTICKETSNL', 'BUDGETAIR', 'VLIEGWINKEL'])]\n",
    "#check brands that are now available in the dataset\n",
    "#travix_base_df['Brand'].value_counts()"
   ]
  },
  {
   "cell_type": "code",
   "execution_count": 18,
   "metadata": {},
   "outputs": [],
   "source": [
    "#rename Brand to Brand/Channel \n",
    "travix_base_df=travix_base_df.rename(columns={'Brand':'Brand/Channel'})"
   ]
  },
  {
   "cell_type": "markdown",
   "metadata": {},
   "source": [
    "## Haul"
   ]
  },
  {
   "cell_type": "code",
   "execution_count": 19,
   "metadata": {},
   "outputs": [
    {
     "data": {
      "text/plain": [
       "Short Haul    668039\n",
       "Long Haul     350131\n",
       "Name: Haul, dtype: int64"
      ]
     },
     "execution_count": 19,
     "metadata": {},
     "output_type": "execute_result"
    }
   ],
   "source": [
    "#Check haul column before adding 'No insurance' category\n",
    "travix_base_df['Haul'].value_counts()"
   ]
  },
  {
   "cell_type": "code",
   "execution_count": 20,
   "metadata": {},
   "outputs": [
    {
     "data": {
      "text/plain": [
       "Index(['Brand/Channel', 'OrderNumber', 'SessionId', 'ChannelType',\n",
       "       'CustomerIdentifier', 'RepeatCustomer', 'TotalNumberOfOrders',\n",
       "       'ReceivedDiscount', 'OrderDateUTC', 'DepartureDate', 'ReturnDate',\n",
       "       'Duration', 'OneWayOrReturn', 'Haul', 'DomesticOrInternational',\n",
       "       'Airline', 'NumberOfPassengers', 'NumberOfInfants', 'NumberOfChildren',\n",
       "       'NumberOfAdults', 'BookerDateOfBirth', 'BookerCountry_Code',\n",
       "       'OriginAirportCode', 'OriginCountryCode', 'DestinationAirportCode',\n",
       "       'DestinationCountryCode', 'FlewEconomyClass', 'FlewFirstClass',\n",
       "       'FlewBusinessClass', 'FlewPremiumEconomyClass', 'Insured', 'PolicyType',\n",
       "       'PolicyName', 'InsuranceStartDate', 'InsuranceEndDate', 'Supplier',\n",
       "       'PolicyNumber', 'InsuranceSalesCurrency',\n",
       "       'InsuranceCost_AdministrativeCost', 'InsuranceCost_Premium',\n",
       "       'InsuranceCost_InsuranceTax', 'InsuranceCost_AdditionalCoverageCost',\n",
       "       'TotalInsuranceCost', 'InsuredAmount', 'TotalTicketSale_EUR',\n",
       "       'OrderCanceled', 'DeviceType', 'HasServicePackage',\n",
       "       'ServicePackageMargin', 'HasTicketGuarantee', 'TicketGuaranteeMargin',\n",
       "       'HasAirhelpPlus', 'AirhelpPlusMargin', 'Dups'],\n",
       "      dtype='object')"
      ]
     },
     "execution_count": 20,
     "metadata": {},
     "output_type": "execute_result"
    }
   ],
   "source": [
    "travix_base_df.columns"
   ]
  },
  {
   "cell_type": "code",
   "execution_count": 21,
   "metadata": {},
   "outputs": [],
   "source": [
    "# Creating a new column that also indicates 'No haul' if haul type is not indicated in the Haul column\n",
    "#fill missing values with 'No insurance'\n",
    "travix_base_df.Haul.fillna(value='No haul', inplace=True)"
   ]
  },
  {
   "cell_type": "code",
   "execution_count": 22,
   "metadata": {},
   "outputs": [
    {
     "data": {
      "text/plain": [
       "Short Haul    668039\n",
       "Long Haul     350131\n",
       "No haul        38999\n",
       "Name: Haul, dtype: int64"
      ]
     },
     "execution_count": 22,
     "metadata": {},
     "output_type": "execute_result"
    }
   ],
   "source": [
    "#Check haul column after adding 'No insurance' category\n",
    "travix_base_df['Haul'].value_counts()"
   ]
  },
  {
   "cell_type": "markdown",
   "metadata": {},
   "source": [
    "## Policy Type"
   ]
  },
  {
   "cell_type": "code",
   "execution_count": 23,
   "metadata": {},
   "outputs": [],
   "source": [
    "#Creating a new column that also indicates 'No insurance' if a customer didnt buy insurance\n",
    "#making a copy of Policy type\n",
    "travix_base_df['Policy_type']=travix_base_df['PolicyType']\n",
    "#fill missing values with 'No insurance'\n",
    "travix_base_df.Policy_type.fillna(value='No insurance', inplace=True)"
   ]
  },
  {
   "cell_type": "code",
   "execution_count": 24,
   "metadata": {},
   "outputs": [
    {
     "data": {
      "text/plain": [
       "No insurance                 999857\n",
       "Cancellation Insurance        33795\n",
       "CANCELLATION-INSURANCE         7371\n",
       "Travel Insurance               6885\n",
       "Combi Insurance                5322\n",
       "TRAVEL-INSURANCE               1621\n",
       "COMBINED-INSURANCE             1614\n",
       "COMBINED INSURANCE CANADA       699\n",
       "EXTRAS                            5\n",
       "Name: Policy_type, dtype: int64"
      ]
     },
     "execution_count": 24,
     "metadata": {},
     "output_type": "execute_result"
    }
   ],
   "source": [
    "#rename policy type categories to travel, cancellation and combi insurance\n",
    "travix_base_df['Policy_type'].replace(to_replace=('HEPSTAR-CANCELLATION','HEPSTAR-COMBINED-INSURANCE','HEPSTAR-TRAVEL', 'HEPSTAR-TRAVELCANCELLATION', 'reissverzekering', 'Travel Insurance ', 'cancellationinsurance'), value=('Cancellation Insurance','Combi Insurance','Travel Insurance', 'Combi Insurance', 'Travel Insurance', 'Travel Insurance', 'Cancellation Insurance' ), inplace=True)\n",
    "#Check\n",
    "travix_base_df['Policy_type'].value_counts()"
   ]
  },
  {
   "cell_type": "markdown",
   "metadata": {},
   "source": [
    "## Travix booking"
   ]
  },
  {
   "cell_type": "code",
   "execution_count": 25,
   "metadata": {},
   "outputs": [
    {
     "data": {
      "text/plain": [
       "0"
      ]
     },
     "execution_count": 25,
     "metadata": {},
     "output_type": "execute_result"
    }
   ],
   "source": [
    "# Creating a new column that indicates 1 if a customer bought flight ticket \n",
    "travix_base_df['distributor_purchase'] = travix_base_df['CustomerIdentifier'].where (travix_base_df['CustomerIdentifier'].isnull(), 1).fillna(0).astype(int)\n",
    "#check if the new column is correct\n",
    "travix_base_df['CustomerIdentifier'].count() - travix_base_df['distributor_purchase'].sum()"
   ]
  },
  {
   "cell_type": "code",
   "execution_count": 26,
   "metadata": {},
   "outputs": [
    {
     "data": {
      "text/plain": [
       "0"
      ]
     },
     "execution_count": 26,
     "metadata": {},
     "output_type": "execute_result"
    }
   ],
   "source": [
    "# Creating a new column that indicates 1 if a customer bought flight ticket \n",
    "travix_base_df['distributor_purchase'] = travix_base_df['CustomerIdentifier'].where (travix_base_df['CustomerIdentifier'].isnull(), 1).fillna(0).astype(int)\n",
    "#check if the new column is correct\n",
    "travix_base_df['distributor_purchase'].count() - travix_base_df['distributor_purchase'].sum()"
   ]
  },
  {
   "cell_type": "code",
   "execution_count": 27,
   "metadata": {},
   "outputs": [
    {
     "data": {
      "text/plain": [
       "1057169"
      ]
     },
     "execution_count": 27,
     "metadata": {},
     "output_type": "execute_result"
    }
   ],
   "source": [
    "#check if every row has brand identified\n",
    "travix_base_df['Brand/Channel'].count()"
   ]
  },
  {
   "cell_type": "markdown",
   "metadata": {},
   "source": [
    "## Insurance Purchase"
   ]
  },
  {
   "cell_type": "code",
   "execution_count": 28,
   "metadata": {
    "scrolled": true
   },
   "outputs": [],
   "source": [
    "# Creating a new column that indicates 1 if a customer bought insurance and 0 otherwise\n",
    "#setting insurance purchase to either 1 or zero\n",
    "#travix_base_df['Insurance_purch'] = travix_base_df['PolicyType'].where (travix_base_df['PolicyType'].isnull(), 1).fillna(0).astype(int)\n",
    "#check if the new column is correct\n",
    "#travix_base_df['PolicyType'].count() - travix_base_df['Insurance_purch'].sum()"
   ]
  },
  {
   "cell_type": "code",
   "execution_count": 29,
   "metadata": {},
   "outputs": [],
   "source": [
    "# Create variable confirming insurance purchase\n",
    "def Insurance_purchase(travix_base_df):\n",
    "    if travix_base_df['TotalInsuranceCost'] > 0:\n",
    "        return 1\n",
    "    else:\n",
    "        return 0\n",
    "travix_base_df['Insurance_purch'] = travix_base_df.apply (lambda row: Insurance_purchase (row), axis=1)"
   ]
  },
  {
   "cell_type": "markdown",
   "metadata": {},
   "source": [
    "## Test product"
   ]
  },
  {
   "cell_type": "code",
   "execution_count": 30,
   "metadata": {},
   "outputs": [
    {
     "data": {
      "text/plain": [
       "No insurance                 999857\n",
       "Cancellation Insurance        33795\n",
       "CANCELLATION-INSURANCE         7371\n",
       "Travel Insurance               6885\n",
       "Combi Insurance                5322\n",
       "TRAVEL-INSURANCE               1621\n",
       "COMBINED-INSURANCE             1614\n",
       "COMBINED INSURANCE CANADA       699\n",
       "EXTRAS                            5\n",
       "Name: Policy_type, dtype: int64"
      ]
     },
     "execution_count": 30,
     "metadata": {},
     "output_type": "execute_result"
    }
   ],
   "source": [
    "travix_base_df['Policy_type'].value_counts()"
   ]
  },
  {
   "cell_type": "code",
   "execution_count": 31,
   "metadata": {},
   "outputs": [],
   "source": [
    "#Remove test products \n",
    "#travix_base_df.drop(travix_base_df[travix_base_df['Policy_type']=='test'].index, inplace=True)"
   ]
  },
  {
   "cell_type": "markdown",
   "metadata": {},
   "source": [
    "## Year, Month Week variables"
   ]
  },
  {
   "cell_type": "code",
   "execution_count": 32,
   "metadata": {},
   "outputs": [],
   "source": [
    "# create order month/year variable\n",
    "travix_base_df['Order_month'] = travix_base_df['OrderDateUTC'].dt.month\n",
    "travix_base_df['Order_year'] = travix_base_df['OrderDateUTC'].dt.year.astype(str)\n",
    "# create  order week variable\n",
    "travix_base_df['Orderweek'] = travix_base_df['OrderDateUTC'].dt.week\n",
    "# create order month and order year variable\n",
    "travix_base_df['YearMonth'] = travix_base_df['OrderDateUTC'].apply(lambda x:x.strftime('%Y-%m'))\n",
    "#create year and week variable\n",
    "travix_base_df['Yearweek'] = travix_base_df['OrderDateUTC'].dt.year.astype(str) + '-' + travix_base_df['OrderDateUTC'].dt.week.astype(str)"
   ]
  },
  {
   "cell_type": "code",
   "execution_count": 33,
   "metadata": {
    "code_folding": []
   },
   "outputs": [],
   "source": [
    "#Change the week number of the last day of the year given as week 1\n",
    "def change_year_week(travix_base_df):\n",
    "    if (travix_base_df['Order_month'] == 12) and (travix_base_df['Orderweek'] == 1):\n",
    "        return travix_base_df['Order_year']+'-'+'52'\n",
    "    else:\n",
    "        return travix_base_df['Yearweek']\n",
    "travix_base_df['Yearweek'] = travix_base_df.apply (lambda row: change_year_week (row),axis=1)"
   ]
  },
  {
   "cell_type": "code",
   "execution_count": 34,
   "metadata": {
    "scrolled": true
   },
   "outputs": [
    {
     "data": {
      "text/plain": [
       "Timestamp('2019-10-27 00:00:00')"
      ]
     },
     "execution_count": 34,
     "metadata": {},
     "output_type": "execute_result"
    }
   ],
   "source": [
    "#Check max date for the date\n",
    "travix_base_df['OrderDateUTC'].max()"
   ]
  },
  {
   "cell_type": "code",
   "execution_count": 35,
   "metadata": {},
   "outputs": [],
   "source": [
    "#convert order_year to string (so as to be able to later join a multiindex level when creating a pivot table)\n",
    "travix_base_df['Order_year']=travix_base_df['Order_year'].apply(str)"
   ]
  },
  {
   "cell_type": "markdown",
   "metadata": {},
   "source": [
    "## Duplicates"
   ]
  },
  {
   "cell_type": "code",
   "execution_count": 36,
   "metadata": {},
   "outputs": [],
   "source": [
    "#select data from the day we went live\n",
    "Tr_live_df = travix_base_df[travix_base_df['OrderDateUTC']>='2018-05-29 00:00:00']\n",
    "Tr_live_df=Tr_live_df.copy()"
   ]
  },
  {
   "cell_type": "code",
   "execution_count": 37,
   "metadata": {},
   "outputs": [
    {
     "data": {
      "text/plain": [
       "(929193, 62)"
      ]
     },
     "execution_count": 37,
     "metadata": {},
     "output_type": "execute_result"
    }
   ],
   "source": [
    "Tr_live_df.shape"
   ]
  },
  {
   "cell_type": "code",
   "execution_count": 38,
   "metadata": {},
   "outputs": [],
   "source": [
    "#select data before we went live\n",
    "Tr_B4_live= travix_base_df[travix_base_df['OrderDateUTC']<'2018-05-29 00:00:00']\n",
    "Tr_B4_live=Tr_B4_live.copy()"
   ]
  },
  {
   "cell_type": "code",
   "execution_count": 39,
   "metadata": {},
   "outputs": [],
   "source": [
    "#drop duplicates with the same ordernumber and policy type from the beggining of phase 1\n",
    "Tr_live_df.drop_duplicates(['OrderNumber', 'PolicyType'],keep='first',inplace=True)\n",
    "#Dups=Travix_df[Travix_df.duplicated(subset=['OrderNumber','sessionid'], keep=False)]"
   ]
  },
  {
   "cell_type": "code",
   "execution_count": 40,
   "metadata": {},
   "outputs": [],
   "source": [
    "# create a list of columns which are constant per order number\n",
    "constant_columns = ['OrderNumber', 'OrderDateUTC', 'Brand/Channel', 'OneWayOrReturn', 'ReceivedDiscount','DepartureDate', 'ReturnDate', 'Duration',\n",
    "                    'Insured', 'Haul','SessionId', 'ChannelType', 'CustomerIdentifier', 'TotalNumberOfOrders', 'DomesticOrInternational',\n",
    "                     'Airline','NumberOfPassengers','NumberOfInfants','NumberOfChildren','NumberOfAdults', 'BookerDateOfBirth','OriginAirportCode',\n",
    "                   'FlewEconomyClass','FlewFirstClass','FlewBusinessClass','FlewPremiumEconomyClass','Order_year', 'Orderweek','Order_month', \n",
    "                    'PolicyNumber', 'distributor_purchase', 'Insurance_purch','InsuranceSalesCurrency', 'OrderCanceled', 'Policy_type', 'YearMonth', 'Yearweek',\n",
    "                   'BookerCountry_Code','OriginCountryCode', 'DestinationAirportCode', 'DestinationCountryCode',\n",
    "                    'PolicyName', 'InsuranceStartDate', 'InsuranceEndDate', 'Supplier','PolicyNumber']                            "
   ]
  },
  {
   "cell_type": "code",
   "execution_count": 41,
   "metadata": {},
   "outputs": [],
   "source": [
    "#join the dataset with the constant columns\n",
    "excl_dups_df =Tr_live_df[constant_columns]\n",
    "# create index based on the 'OrderNumber' column\n",
    "excl_dups_df.set_index('OrderNumber', inplace=True)"
   ]
  },
  {
   "cell_type": "code",
   "execution_count": 42,
   "metadata": {},
   "outputs": [],
   "source": [
    "#create a new database with a list of names for columns to be summed per order number\n",
    "columns_to_sum = ['InsuranceCost_AdministrativeCost',\n",
    "                  'InsuranceCost_Premium', 'InsuranceCost_InsuranceTax',\n",
    "                  'InsuranceCost_AdditionalCoverageCost', 'TotalInsuranceCost',\n",
    "                  'InsuredAmount','TotalTicketSale_EUR']                             "
   ]
  },
  {
   "cell_type": "code",
   "execution_count": 43,
   "metadata": {},
   "outputs": [],
   "source": [
    "# create a new dataframe with sums for each order number\n",
    "sums_excl_df =Tr_live_df.groupby('OrderNumber')[columns_to_sum].sum()"
   ]
  },
  {
   "cell_type": "code",
   "execution_count": 44,
   "metadata": {},
   "outputs": [],
   "source": [
    "Tr_live_df['PolicyType'].fillna('Nan',inplace=True)"
   ]
  },
  {
   "cell_type": "code",
   "execution_count": 45,
   "metadata": {},
   "outputs": [],
   "source": [
    "# create a series with concatenated policy types to identify products sold later\n",
    "policy_series = Tr_live_df.groupby('OrderNumber')['PolicyType'].apply(lambda x: \n",
    "                            ' + '.join(x.sort_values()) if x.any() else np.nan)"
   ]
  },
  {
   "cell_type": "code",
   "execution_count": 46,
   "metadata": {},
   "outputs": [],
   "source": [
    " #MERGE CONSTANT AND TRANSFORMED DATASETS\n",
    "# merge the base data frame with the one containing sums\n",
    "excl_dups_df = excl_dups_df.merge(sums_excl_df, left_index=True, right_index=True)\n",
    "# add policy names\n",
    "excl_dups_df['Policy_names'] = policy_series"
   ]
  },
  {
   "cell_type": "code",
   "execution_count": 47,
   "metadata": {},
   "outputs": [],
   "source": [
    "#Reset index so as to merge the two different datasets\n",
    "excl_dups_df.reset_index(inplace=True)"
   ]
  },
  {
   "cell_type": "code",
   "execution_count": 48,
   "metadata": {},
   "outputs": [],
   "source": [
    "#drop duplicates by ordernumber\n",
    "excl_dups_df.drop_duplicates(['OrderNumber'],keep='first',inplace=True)"
   ]
  },
  {
   "cell_type": "code",
   "execution_count": 49,
   "metadata": {},
   "outputs": [],
   "source": [
    "#output_df[output_df['Policy_names']=='HEPSTAR-TRAVEL + HEPSTAR-TRAVELCANCELLATION']['OrderNumber']"
   ]
  },
  {
   "cell_type": "code",
   "execution_count": 50,
   "metadata": {},
   "outputs": [],
   "source": [
    "#Merge the two dataset (before and after we went live)\n",
    "Travix_data = pd.concat([excl_dups_df,Tr_B4_live], join_axes = [excl_dups_df.columns])"
   ]
  },
  {
   "cell_type": "code",
   "execution_count": 51,
   "metadata": {},
   "outputs": [],
   "source": [
    "#Rename supplier name so as to have same format of the names\n",
    "Travix_data['Supplier'].replace('Unigarant verzekeringen', 'Unigarant Verzekeringen',inplace=True)"
   ]
  },
  {
   "cell_type": "markdown",
   "metadata": {},
   "source": [
    "## Travix revenue"
   ]
  },
  {
   "cell_type": "code",
   "execution_count": 52,
   "metadata": {},
   "outputs": [
    {
     "data": {
      "text/plain": [
       "Index(['OrderNumber', 'OrderDateUTC', 'Brand/Channel', 'OneWayOrReturn',\n",
       "       'ReceivedDiscount', 'DepartureDate', 'ReturnDate', 'Duration',\n",
       "       'Insured', 'Haul', 'SessionId', 'ChannelType', 'CustomerIdentifier',\n",
       "       'TotalNumberOfOrders', 'DomesticOrInternational', 'Airline',\n",
       "       'NumberOfPassengers', 'NumberOfInfants', 'NumberOfChildren',\n",
       "       'NumberOfAdults', 'BookerDateOfBirth', 'OriginAirportCode',\n",
       "       'FlewEconomyClass', 'FlewFirstClass', 'FlewBusinessClass',\n",
       "       'FlewPremiumEconomyClass', 'Order_year', 'Orderweek', 'Order_month',\n",
       "       'PolicyNumber', 'distributor_purchase', 'Insurance_purch',\n",
       "       'InsuranceSalesCurrency', 'OrderCanceled', 'Policy_type', 'YearMonth',\n",
       "       'Yearweek', 'BookerCountry_Code', 'OriginCountryCode',\n",
       "       'DestinationAirportCode', 'DestinationCountryCode', 'PolicyName',\n",
       "       'InsuranceStartDate', 'InsuranceEndDate', 'Supplier', 'PolicyNumber',\n",
       "       'InsuranceCost_AdministrativeCost', 'InsuranceCost_Premium',\n",
       "       'InsuranceCost_InsuranceTax', 'InsuranceCost_AdditionalCoverageCost',\n",
       "       'TotalInsuranceCost', 'InsuredAmount', 'TotalTicketSale_EUR',\n",
       "       'Policy_names'],\n",
       "      dtype='object')"
      ]
     },
     "execution_count": 52,
     "metadata": {},
     "output_type": "execute_result"
    }
   ],
   "source": [
    "Travix_data.columns"
   ]
  },
  {
   "cell_type": "code",
   "execution_count": 53,
   "metadata": {},
   "outputs": [],
   "source": [
    "#Calculate 58% Insurance premium\n",
    "Travix_data['58%Insurance_Premium']=0.58*Travix_data['InsuranceCost_Premium']"
   ]
  },
  {
   "cell_type": "code",
   "execution_count": 54,
   "metadata": {},
   "outputs": [
    {
     "data": {
      "text/html": [
       "<div>\n",
       "<style scoped>\n",
       "    .dataframe tbody tr th:only-of-type {\n",
       "        vertical-align: middle;\n",
       "    }\n",
       "\n",
       "    .dataframe tbody tr th {\n",
       "        vertical-align: top;\n",
       "    }\n",
       "\n",
       "    .dataframe thead th {\n",
       "        text-align: right;\n",
       "    }\n",
       "</style>\n",
       "<table border=\"1\" class=\"dataframe\">\n",
       "  <thead>\n",
       "    <tr style=\"text-align: right;\">\n",
       "      <th></th>\n",
       "      <th>58%Insurance_Premium</th>\n",
       "      <th>InsuranceCost_Premium</th>\n",
       "    </tr>\n",
       "  </thead>\n",
       "  <tbody>\n",
       "    <tr>\n",
       "      <th>0</th>\n",
       "      <td>0.0</td>\n",
       "      <td>0.0</td>\n",
       "    </tr>\n",
       "    <tr>\n",
       "      <th>1</th>\n",
       "      <td>0.0</td>\n",
       "      <td>0.0</td>\n",
       "    </tr>\n",
       "    <tr>\n",
       "      <th>2</th>\n",
       "      <td>0.0</td>\n",
       "      <td>0.0</td>\n",
       "    </tr>\n",
       "    <tr>\n",
       "      <th>3</th>\n",
       "      <td>0.0</td>\n",
       "      <td>0.0</td>\n",
       "    </tr>\n",
       "    <tr>\n",
       "      <th>4</th>\n",
       "      <td>0.0</td>\n",
       "      <td>0.0</td>\n",
       "    </tr>\n",
       "  </tbody>\n",
       "</table>\n",
       "</div>"
      ],
      "text/plain": [
       "   58%Insurance_Premium  InsuranceCost_Premium\n",
       "0                   0.0                    0.0\n",
       "1                   0.0                    0.0\n",
       "2                   0.0                    0.0\n",
       "3                   0.0                    0.0\n",
       "4                   0.0                    0.0"
      ]
     },
     "execution_count": 54,
     "metadata": {},
     "output_type": "execute_result"
    }
   ],
   "source": [
    "#check\n",
    "test= Travix_data[['58%Insurance_Premium', 'InsuranceCost_Premium']]\n",
    "test[test.InsuranceCost_Premium.notnull()].head(5)"
   ]
  },
  {
   "cell_type": "code",
   "execution_count": 55,
   "metadata": {},
   "outputs": [
    {
     "data": {
      "text/plain": [
       "6    825003\n",
       "Name: Masterpolicy_fee, dtype: int64"
      ]
     },
     "execution_count": 55,
     "metadata": {},
     "output_type": "execute_result"
    }
   ],
   "source": [
    "#function to add a columns with masterpolicyfee\n",
    "Travix_data['Masterpolicy_fee'] = Travix_data['Policy_type'].where (Travix_data['Policy_type'].isnull(), 6).fillna(0).astype(int)\n",
    "Travix_data['Masterpolicy_fee'].value_counts()"
   ]
  },
  {
   "cell_type": "code",
   "execution_count": 56,
   "metadata": {},
   "outputs": [],
   "source": [
    "#function to add a columns indicating the phase in which the orders occured\n",
    "def Travix_Phase(Travix_data):\n",
    "    if (Travix_data['OrderDateUTC']>= Start_date)  and (Travix_data['Supplier']=='Unigarant Verzekeringen'):\n",
    "        return 'Phase1&2'\n",
    "    else:\n",
    "        return ''\n",
    "Travix_data['Phase'] = Travix_data.apply (lambda row: Travix_Phase (row),axis=1)"
   ]
  },
  {
   "cell_type": "code",
   "execution_count": 57,
   "metadata": {},
   "outputs": [],
   "source": [
    "#function to add a columns with masterpolicyfee without tax (at the beginning of Phase 2a going onwards)\n",
    "def MP_fee_exc_tax(Travix_data):\n",
    "    if (Travix_data['Insurance_purch'] == 1) and (Travix_data['OrderDateUTC']>= Start_date) and (Travix_data['Supplier']=='Unigarant Verzekeringen'):\n",
    "        return 5.8\n",
    "    if (Travix_data['Insurance_purch'] == 1) and (Travix_data['OrderDateUTC']< Start_date) and (Travix_data['Supplier']=='Unigarant Verzekeringen'):\n",
    "        return 6\n",
    "    else:\n",
    "        return 0\n",
    "Travix_data['MP_fee_exc_tax&HS'] = Travix_data.apply (lambda row: MP_fee_exc_tax (row),axis=1)"
   ]
  },
  {
   "cell_type": "code",
   "execution_count": 58,
   "metadata": {},
   "outputs": [
    {
     "data": {
      "text/plain": [
       "Unigarant Verzekeringen    43541\n",
       "AIG Canada                   699\n",
       "Unigarant verzekeringen        6\n",
       "Refund Protect                 4\n",
       "Name: Supplier, dtype: int64"
      ]
     },
     "execution_count": 58,
     "metadata": {},
     "output_type": "execute_result"
    }
   ],
   "source": [
    "Travix_data['Supplier'].value_counts()"
   ]
  },
  {
   "cell_type": "markdown",
   "metadata": {},
   "source": [
    "#Travix Revenue\n",
    "#Calculate Distributor's revenue per supplier\n",
    "def Ditributor_revenue(Travix_data):\n",
    "    if Travix_data['Supplier'] == 'unigarant verzekeringen':\n",
    "        return Travix_data['MP_fee_exc_tax&HS']+Travix_data['58%Insurance_Premium']\n",
    "    if Travix_data['Supplier'].str.lower() == 'refund protect':\n",
    "        return  Travix_data['45%Insurance_Premium']\n",
    "    else:\n",
    "        return 0\n",
    "Travix_data['HS_purchased_dist_revenue'] = Travix_data.apply (lambda row: Ditributor_revenue (row),axis=1)"
   ]
  },
  {
   "cell_type": "code",
   "execution_count": 59,
   "metadata": {},
   "outputs": [],
   "source": [
    "#Calculate Distributor's revenue per supplier\n",
    "Travix_data['Travix_revenue']=0\n",
    "Travix_data['Travix_revenue']= np.where(Travix_data['Supplier'].str.lower()=='unigarant verzekeringen', Travix_data['MP_fee_exc_tax&HS']+Travix_data['58%Insurance_Premium'],Travix_data['Travix_revenue'])\n",
    "Travix_data['Travix_revenue']= np.where(Travix_data['Supplier']=='Refund protect', Travix_data['InsuranceCost_Premium']*0.5, Travix_data['Travix_revenue'])"
   ]
  },
  {
   "cell_type": "code",
   "execution_count": 60,
   "metadata": {},
   "outputs": [],
   "source": [
    "#create a column indicating the total retail value\n",
    "Travix_data['TotalRetail_value']=Travix_data['TotalInsuranceCost']"
   ]
  },
  {
   "cell_type": "markdown",
   "metadata": {},
   "source": [
    "## Cancelled Orders"
   ]
  },
  {
   "cell_type": "code",
   "execution_count": 61,
   "metadata": {},
   "outputs": [],
   "source": [
    "# Removing Cancelled Orders starting from phase 1 going onwards\n",
    "#function to add a columns that indicates if a policy was cancelled or not\n",
    "def Order_cancelled(Travix_data):\n",
    "    if (Travix_data['OrderCanceled'] == True) and (Travix_data['OrderDateUTC']>= Start_date):\n",
    "        return True\n",
    "    else:\n",
    "        return False\n",
    "Travix_data['OrderCancel_P1&2'] = Travix_data.apply (lambda row: Order_cancelled (row),axis=1)"
   ]
  },
  {
   "cell_type": "code",
   "execution_count": 62,
   "metadata": {},
   "outputs": [
    {
     "data": {
      "text/plain": [
       "False    798780\n",
       "True      26223\n",
       "Name: OrderCancel_P1&2, dtype: int64"
      ]
     },
     "execution_count": 62,
     "metadata": {},
     "output_type": "execute_result"
    }
   ],
   "source": [
    "#Check number of cancelled orders in Phase 1&2 using the created variable\n",
    "Travix_data['OrderCancel_P1&2'].value_counts()"
   ]
  },
  {
   "cell_type": "code",
   "execution_count": 63,
   "metadata": {},
   "outputs": [
    {
     "data": {
      "text/plain": [
       "False    32786\n",
       "True      1210\n",
       "Name: OrderCanceled, dtype: int64"
      ]
     },
     "execution_count": 63,
     "metadata": {},
     "output_type": "execute_result"
    }
   ],
   "source": [
    "#Check if indication of cancelled orders is in Phase 1 and 2 only\n",
    "Travix_data[Travix_data['Phase']=='Phase1&2']['OrderCanceled'].value_counts()"
   ]
  },
  {
   "cell_type": "code",
   "execution_count": 64,
   "metadata": {},
   "outputs": [],
   "source": [
    "#drop cancelled orders in Phase 1&2\n",
    "#travix_base_df.drop(travix_base_df[travix_base_df['CancelledOrders_Phase1&2']==True].index, inplace=True)"
   ]
  },
  {
   "cell_type": "markdown",
   "metadata": {},
   "source": [
    "## Booker Country "
   ]
  },
  {
   "cell_type": "code",
   "execution_count": 65,
   "metadata": {},
   "outputs": [],
   "source": [
    "# Creating a new column that indicates NL if a customer's booking country code is NL and non_NL otherwise\n",
    "#function to add a columns that indicates Booker country\n",
    "def Booker_Country(Travix_data):\n",
    "    if (Travix_data['BookerCountry_Code'] == 'NL'):\n",
    "        return 'NL'\n",
    "    else:\n",
    "        return 'non_NL'\n",
    "Travix_data['Booker_Country'] = Travix_data.apply (lambda row: Booker_Country (row),axis=1)"
   ]
  },
  {
   "cell_type": "code",
   "execution_count": 66,
   "metadata": {},
   "outputs": [
    {
     "data": {
      "text/plain": [
       "Timestamp('2019-10-27 00:00:00')"
      ]
     },
     "execution_count": 66,
     "metadata": {},
     "output_type": "execute_result"
    }
   ],
   "source": [
    "#Check the maximum date in the dataset\n",
    "Travix_data['OrderDateUTC'].max()"
   ]
  },
  {
   "cell_type": "markdown",
   "metadata": {},
   "source": [
    "# Create a pivot table"
   ]
  },
  {
   "cell_type": "code",
   "execution_count": 67,
   "metadata": {},
   "outputs": [],
   "source": [
    "#select columns for the pivot table\n",
    "clmns_to_keep_df=Travix_data[['OrderDateUTC','Order_year','Order_month','Orderweek','Yearweek','Haul','Policy_type','PolicyName','Insurance_purch','distributor_purchase','58%Insurance_Premium', 'Brand/Channel', 'Travix_revenue', 'MP_fee_exc_tax&HS', 'OrderCancel_P1&2', 'TotalRetail_value','OneWayOrReturn','Booker_Country']]"
   ]
  },
  {
   "cell_type": "markdown",
   "metadata": {},
   "source": [
    "## NL Channels"
   ]
  },
  {
   "cell_type": "code",
   "execution_count": 68,
   "metadata": {},
   "outputs": [],
   "source": [
    "TravixNL_df=clmns_to_keep_df.loc[clmns_to_keep_df['Brand/Channel'].isin(['CHEAPTICKETSNL','BUDGETAIR','VLIEGWINKEL'])]"
   ]
  },
  {
   "cell_type": "code",
   "execution_count": 69,
   "metadata": {},
   "outputs": [],
   "source": [
    "#segment data per orderdate, year, week, haul and policy type\n",
    "TravixNL_pivot_df=TravixNL_df.pivot_table(index=['OrderDateUTC','Order_year','Yearweek','Order_month','Orderweek','OrderCancel_P1&2','Haul', 'Brand/Channel','Policy_type','OneWayOrReturn', 'Booker_Country'], aggfunc='sum')"
   ]
  },
  {
   "cell_type": "code",
   "execution_count": 70,
   "metadata": {},
   "outputs": [],
   "source": [
    "#Reset the index for the pivot table \n",
    "TravixNL_pivot_df.reset_index(inplace=True)"
   ]
  },
  {
   "cell_type": "markdown",
   "metadata": {},
   "source": [
    "### Export data"
   ]
  },
  {
   "cell_type": "code",
   "execution_count": 71,
   "metadata": {},
   "outputs": [],
   "source": [
    "#export to bi-report drive\n",
    "TravixNL_pivot_df.to_csv(export_BI_drive+'Travix YoY Analysis Data excluding duplicates.csv')\n",
    "#export to local\n",
    "TravixNL_pivot_df.to_csv(export_folder_name + '\\\\' + +'Travix YoY Analysis Data excluding duplicates.csv')"
   ]
  },
  {
   "cell_type": "markdown",
   "metadata": {},
   "source": [
    "## CA Channel"
   ]
  },
  {
   "cell_type": "code",
   "execution_count": 72,
   "metadata": {},
   "outputs": [],
   "source": [
    "TravixCA_df=clmns_to_keep_df.loc[clmns_to_keep_df['Brand/Channel'].isin(['BUDGETAIRCA'])]"
   ]
  },
  {
   "cell_type": "code",
   "execution_count": 74,
   "metadata": {},
   "outputs": [],
   "source": [
    "#segment data per orderdate, year, week, haul and policy type\n",
    "TravixCA_pivot_df=TravixCA_df.pivot_table(index=['OrderDateUTC','Order_year','Yearweek','Order_month','Orderweek','OrderCancel_P1&2','Haul', 'Brand/Channel','Policy_type','OneWayOrReturn', 'Booker_Country'], aggfunc='sum')"
   ]
  },
  {
   "cell_type": "code",
   "execution_count": 75,
   "metadata": {},
   "outputs": [],
   "source": [
    "#Reset the index for the pivot table \n",
    "TravixCA_pivot_df.reset_index(inplace=True)"
   ]
  },
  {
   "cell_type": "markdown",
   "metadata": {},
   "source": [
    "### Export data"
   ]
  },
  {
   "cell_type": "code",
   "execution_count": 76,
   "metadata": {},
   "outputs": [],
   "source": [
    "#export to bi-report drive\n",
    "TravixCA_pivot_df.to_csv(export_BI_drive+'TravixCA YoY Analysis Data excluding duplicates.csv')\n",
    "#export to local\n",
    "TravixCA_pivot_df.to_csv(export_folder_name + '\\\\' ++'TravixCA YoY Analysis Data excluding duplicates.csv')"
   ]
  }
 ],
 "metadata": {
  "kernelspec": {
   "display_name": "Python 3",
   "language": "python",
   "name": "python3"
  },
  "language_info": {
   "codemirror_mode": {
    "name": "ipython",
    "version": 3
   },
   "file_extension": ".py",
   "mimetype": "text/x-python",
   "name": "python",
   "nbconvert_exporter": "python",
   "pygments_lexer": "ipython3",
   "version": "3.6.5"
  },
  "toc": {
   "base_numbering": 1,
   "nav_menu": {},
   "number_sections": true,
   "sideBar": true,
   "skip_h1_title": false,
   "title_cell": "Table of Contents",
   "title_sidebar": "Contents",
   "toc_cell": false,
   "toc_position": {
    "height": "calc(100% - 180px)",
    "left": "10px",
    "top": "150px",
    "width": "290.98px"
   },
   "toc_section_display": true,
   "toc_window_display": true
  }
 },
 "nbformat": 4,
 "nbformat_minor": 2
}
