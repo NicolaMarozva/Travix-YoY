{
 "cells": [
  {
   "cell_type": "markdown",
   "metadata": {},
   "source": [
    "# Import packages and data"
   ]
  },
  {
   "cell_type": "code",
   "execution_count": 1,
   "metadata": {},
   "outputs": [],
   "source": [
    "from datetime import date\n",
    "import glob\n",
    "import pandas as pd\n",
    "import numpy as np\n",
    "from datetime import date\n",
    "from datetime import datetime, timedelta\n",
    "import time\n",
    "import pytz\n",
    "import os"
   ]
  },
  {
   "cell_type": "code",
   "execution_count": 2,
   "metadata": {},
   "outputs": [],
   "source": [
    "# Data location \n",
    "folder_external = r'C:\\Users\\BI-LOCAL\\Documents\\Python Scripts\\Travix\\data\\external\\\\'"
   ]
  },
  {
   "cell_type": "code",
   "execution_count": 3,
   "metadata": {},
   "outputs": [],
   "source": [
    "# Network locations for data import & export### Import data from BI drive\n",
    "input_TravixDatadump = r'\\\\192.168.140.37\\\\Business-Share\\\\BI resources\\\\Dashboards\\\\Travix\\\\# Data\\\\Travix Datadump\\\\'\n",
    "export_BI_drive= r'\\\\192.168.140.37\\\\Business-Share\\\\BI resources\\\\Dashboards\\\\Travix\\\\# Travix NL\\\\# Data\\\\'"
   ]
  },
  {
   "cell_type": "markdown",
   "metadata": {},
   "source": [
    "### Import data from BI drive"
   ]
  },
  {
   "cell_type": "code",
   "execution_count": 4,
   "metadata": {},
   "outputs": [],
   "source": [
    "#Specify all bi-report files directory \n",
    "All_TR_Data = glob.glob(input_TravixDatadump + \"/*.csv\")\n",
    "#Specify files you want to exclude\n",
    "Data_TR_2018= glob.glob(input_TravixDatadump + \"/2018*.csv\")\n",
    "#Data_TR_201901= glob.glob(input_TravixDatadump + \"/201901*.csv\")\n",
    "#Data_TR_201904= glob.glob(input_TravixDatadump + \"/201904*.csv\")\n",
    "# Specify relevant di-report files \n",
    "Select_TR_Data = set(All_TR_Data)-set(Data_TR_2018)"
   ]
  },
  {
   "cell_type": "code",
   "execution_count": 5,
   "metadata": {},
   "outputs": [],
   "source": [
    "#Import historical data\n",
    "Travix_base_df = pd.concat((pd.read_csv(f,low_memory=False) for f in Select_TR_Data),sort=True)"
   ]
  },
  {
   "cell_type": "markdown",
   "metadata": {},
   "source": [
    "### Import downloaded SFTP Archive data "
   ]
  },
  {
   "cell_type": "code",
   "execution_count": 6,
   "metadata": {
    "scrolled": true
   },
   "outputs": [],
   "source": [
    "# Import all distributor data from local folder \n",
    "AllData = glob.glob(folder_external + \"/external_travix*.csv\")\n",
    "Travix_SFTP_df = pd.concat((pd.read_csv(f, low_memory=False) for f in AllData))"
   ]
  },
  {
   "cell_type": "code",
   "execution_count": 7,
   "metadata": {},
   "outputs": [],
   "source": [
    "# extract the date & time from string in LastUpdatedDate column and convert type of column to datetime64\n",
    "Travix_SFTP_df['LastUpdatedDate'] = pd.to_datetime(Travix_SFTP_df['LastUpdatedDate'].astype(str).str[:19],format='%Y-%m-%d %H:%M:%S')"
   ]
  },
  {
   "cell_type": "code",
   "execution_count": 8,
   "metadata": {},
   "outputs": [],
   "source": [
    "# Select the latest session ID based on last updated date column and drop the rest\n",
    "Travix_SFTP_df = Travix_SFTP_df.sort_values('LastUpdatedDate').drop_duplicates(['SessionId', 'OrderNumber'], keep='last')"
   ]
  },
  {
   "cell_type": "markdown",
   "metadata": {},
   "source": [
    "### Merge Travix data files"
   ]
  },
  {
   "cell_type": "code",
   "execution_count": 9,
   "metadata": {},
   "outputs": [],
   "source": [
    "# Merge Travix csv files in folders with other csv files not in folders\n",
    "travix_df = pd.concat([Travix_base_df,Travix_SFTP_df], sort = False)"
   ]
  },
  {
   "cell_type": "markdown",
   "metadata": {},
   "source": [
    "### Travix data cleaning"
   ]
  },
  {
   "cell_type": "markdown",
   "metadata": {},
   "source": [
    "# Data Cleaning"
   ]
  },
  {
   "cell_type": "code",
   "execution_count": 10,
   "metadata": {},
   "outputs": [
    {
     "data": {
      "text/plain": [
       "Timestamp('2018-05-29 00:00:00')"
      ]
     },
     "execution_count": 10,
     "metadata": {},
     "output_type": "execute_result"
    }
   ],
   "source": [
    "### Travix data cleaning# Select data range starting from the time we went live\n",
    "Start_date = ('2018-05-29 00:00:00')\n",
    "Start_date = pd.to_datetime(Start_date)\n",
    "Start_date"
   ]
  },
  {
   "cell_type": "code",
   "execution_count": 11,
   "metadata": {},
   "outputs": [],
   "source": [
    "#Excluding time from the Order Date and changing orderdate to date format\n",
    "travix_df['OrderDateUTC'] = pd.to_datetime(travix_df['OrderDateUTC'],infer_datetime_format=True,exact=False).dt.date\n",
    "travix_df['OrderDateUTC'] = pd.to_datetime(travix_df['OrderDateUTC'])"
   ]
  },
  {
   "cell_type": "code",
   "execution_count": 12,
   "metadata": {},
   "outputs": [],
   "source": [
    "travix_base_df=travix_df.copy()"
   ]
  },
  {
   "cell_type": "markdown",
   "metadata": {},
   "source": [
    "## Removing incomplete last day"
   ]
  },
  {
   "cell_type": "code",
   "execution_count": 13,
   "metadata": {},
   "outputs": [
    {
     "data": {
      "text/plain": [
       "Timestamp('2020-05-12 00:00:00')"
      ]
     },
     "execution_count": 13,
     "metadata": {},
     "output_type": "execute_result"
    }
   ],
   "source": [
    "# start date report\n",
    "End_date = travix_base_df['OrderDateUTC'].max()\n",
    "End_date"
   ]
  },
  {
   "cell_type": "code",
   "execution_count": 14,
   "metadata": {},
   "outputs": [],
   "source": [
    "# Remove incomplete last day in a dataset\n",
    "travix_base_df=travix_base_df[travix_base_df['OrderDateUTC']< End_date]"
   ]
  },
  {
   "cell_type": "code",
   "execution_count": 15,
   "metadata": {
    "scrolled": true
   },
   "outputs": [
    {
     "data": {
      "text/plain": [
       "Timestamp('2020-05-11 00:00:00')"
      ]
     },
     "execution_count": 15,
     "metadata": {},
     "output_type": "execute_result"
    }
   ],
   "source": [
    "#Check maximum date\n",
    "travix_base_df['OrderDateUTC'].max()"
   ]
  },
  {
   "cell_type": "markdown",
   "metadata": {},
   "source": [
    "## Selecting NL brand only"
   ]
  },
  {
   "cell_type": "code",
   "execution_count": 16,
   "metadata": {
    "code_folding": []
   },
   "outputs": [
    {
     "data": {
      "text/plain": [
       "CHEAPTICKETSNL    420942\n",
       "BUDGETAIR         144395\n",
       "VLIEGWINKEL        71996\n",
       "Name: Brand, dtype: int64"
      ]
     },
     "execution_count": 16,
     "metadata": {},
     "output_type": "execute_result"
    }
   ],
   "source": [
    "#Limit data to NL brand only\n",
    "travix_base_df=travix_base_df[travix_base_df['Brand'].isin(['CHEAPTICKETSNL', 'BUDGETAIR', 'VLIEGWINKEL'])]\n",
    "#check brands in the data\n",
    "travix_base_df['Brand'].value_counts()"
   ]
  },
  {
   "cell_type": "code",
   "execution_count": 17,
   "metadata": {},
   "outputs": [],
   "source": [
    "#rename Brand to Brand/Channel\n",
    "travix_base_df=travix_base_df.rename(columns={'Brand':'Brand/Channel'})"
   ]
  },
  {
   "cell_type": "markdown",
   "metadata": {},
   "source": [
    "## Haul"
   ]
  },
  {
   "cell_type": "code",
   "execution_count": 18,
   "metadata": {},
   "outputs": [
    {
     "data": {
      "text/plain": [
       "Short Haul    404294\n",
       "Long Haul     209027\n",
       "Name: Haul, dtype: int64"
      ]
     },
     "execution_count": 18,
     "metadata": {},
     "output_type": "execute_result"
    }
   ],
   "source": [
    "#Check haul column before adding 'No insurance' category\n",
    "travix_base_df['Haul'].value_counts()"
   ]
  },
  {
   "cell_type": "code",
   "execution_count": 19,
   "metadata": {},
   "outputs": [],
   "source": [
    "# Creating a new column that also indicates 'No haul' if haul type is not indicated in the Haul column\n",
    "#fill missing values with 'No insurance'\n",
    "travix_base_df.Haul.fillna(value='No Hual', inplace=True)"
   ]
  },
  {
   "cell_type": "code",
   "execution_count": 20,
   "metadata": {},
   "outputs": [
    {
     "data": {
      "text/plain": [
       "Short Haul    404294\n",
       "Long Haul     209027\n",
       "No Hual        24012\n",
       "Name: Haul, dtype: int64"
      ]
     },
     "execution_count": 20,
     "metadata": {},
     "output_type": "execute_result"
    }
   ],
   "source": [
    "#Check haul column after adding 'No insurance' category\n",
    "travix_base_df['Haul'].value_counts()"
   ]
  },
  {
   "cell_type": "markdown",
   "metadata": {},
   "source": [
    "## Policy Type"
   ]
  },
  {
   "cell_type": "code",
   "execution_count": 21,
   "metadata": {},
   "outputs": [],
   "source": [
    "#Creating a new column that also indicates 'No insurance' if a customer didnt buy insurance\n",
    "#making a copy of Policy type\n",
    "travix_base_df['Policytype']=travix_base_df['PolicyType']\n",
    "#fill missing values with 'No insurance'\n",
    "travix_base_df.Policytype.fillna(value='No insurance', inplace=True)"
   ]
  },
  {
   "cell_type": "code",
   "execution_count": 22,
   "metadata": {},
   "outputs": [
    {
     "data": {
      "text/plain": [
       "No insurance              587130\n",
       "CANCELLATION-INSURANCE     22633\n",
       "Cancellation Insurance     13113\n",
       "COMBINED-INSURANCE          4242\n",
       "TRAVEL-INSURANCE            3570\n",
       "Combi Insurance             2744\n",
       "Travel Insurance            2515\n",
       "EXTRAS                      1386\n",
       "Name: Policytype, dtype: int64"
      ]
     },
     "execution_count": 22,
     "metadata": {},
     "output_type": "execute_result"
    }
   ],
   "source": [
    "#rename policy type categories to travel, cancellation and combi insurance\n",
    "travix_base_df['Policytype'].replace(to_replace=('HEPSTAR-CANCELLATION','HEPSTAR-COMBINED-INSURANCE','HEPSTAR-TRAVEL', 'HEPSTAR-TRAVELCANCELLATION', 'reissverzekering', 'Travel Insurance ', 'cancellationinsurance'), value=('Cancellation Insurance','Combi Insurance','Travel Insurance', 'Combi Insurance', 'Travel Insurance', 'Travel Insurance', 'Cancellation Insurance' ), inplace=True)\n",
    "#Check\n",
    "travix_base_df['Policytype'].value_counts()"
   ]
  },
  {
   "cell_type": "code",
   "execution_count": 23,
   "metadata": {},
   "outputs": [
    {
     "data": {
      "text/plain": [
       "No insurance                     587130\n",
       "Cancellation Insurance            35746\n",
       "Travel+Cancellation Insurance      6986\n",
       "Travel Insurance                   6085\n",
       "EXTRAS                             1386\n",
       "Name: Policy_type, dtype: int64"
      ]
     },
     "execution_count": 23,
     "metadata": {},
     "output_type": "execute_result"
    }
   ],
   "source": [
    "travix_base_df['Policy_type'] =''\n",
    "travix_base_df['Policy_type'] = np.where(travix_base_df['Policytype'] == 'CANCELLATION-INSURANCE', 'Cancellation Insurance', travix_base_df['Policy_type'])\n",
    "travix_base_df['Policy_type'] = np.where(travix_base_df['Policytype'] == 'COMBINED-INSURANCE', 'Travel+Cancellation Insurance', travix_base_df['Policy_type'])\n",
    "travix_base_df['Policy_type'] = np.where(travix_base_df['Policytype'] == 'TRAVEL-INSURANCE', 'Travel Insurance', travix_base_df['Policy_type'])\n",
    "travix_base_df['Policy_type'] = np.where(travix_base_df['Policytype'] == 'Combi Insurance', 'Travel+Cancellation Insurance', travix_base_df['Policy_type'])\n",
    "travix_base_df['Policy_type'] = np.where(travix_base_df['Policy_type'] == '',travix_base_df['Policytype'], travix_base_df['Policy_type'])\n",
    "travix_base_df['Policy_type'].value_counts()"
   ]
  },
  {
   "cell_type": "code",
   "execution_count": 24,
   "metadata": {
    "scrolled": true
   },
   "outputs": [],
   "source": [
    "# Split rows with Travel Insurance+Cancellation Insurance into two different rows\n",
    "travix_base_df = \\\n",
    "(travix_base_df.set_index(travix_base_df.columns.drop('Policy_type',1).tolist())\n",
    "   .Policy_type.str.split('+', expand=True)\n",
    "   .stack()\n",
    "   .reset_index()\n",
    "   .rename(columns={0:'Policy_type'})\n",
    "   .loc[:, travix_base_df.columns]\n",
    ")"
   ]
  },
  {
   "cell_type": "code",
   "execution_count": 25,
   "metadata": {},
   "outputs": [
    {
     "data": {
      "text/plain": [
       "No insurance              587130\n",
       "Cancellation Insurance     42732\n",
       "Travel                      6986\n",
       "Travel Insurance            6085\n",
       "EXTRAS                      1386\n",
       "Name: Policy_type, dtype: int64"
      ]
     },
     "execution_count": 25,
     "metadata": {},
     "output_type": "execute_result"
    }
   ],
   "source": [
    "travix_base_df['Policy_type'].value_counts()"
   ]
  },
  {
   "cell_type": "markdown",
   "metadata": {},
   "source": [
    "## Travix booking"
   ]
  },
  {
   "cell_type": "code",
   "execution_count": 26,
   "metadata": {},
   "outputs": [
    {
     "data": {
      "text/plain": [
       "0"
      ]
     },
     "execution_count": 26,
     "metadata": {},
     "output_type": "execute_result"
    }
   ],
   "source": [
    "# Creating a new column that indicates 1 if a customer bought flight ticket \n",
    "travix_base_df['Travix_booking'] = travix_base_df['CustomerIdentifier'].where (travix_base_df['CustomerIdentifier'].isnull(), 1).fillna(0).astype(int)\n",
    "#check if the new column is correct\n",
    "travix_base_df['CustomerIdentifier'].count() - travix_base_df['Travix_booking'].sum()"
   ]
  },
  {
   "cell_type": "code",
   "execution_count": 27,
   "metadata": {},
   "outputs": [
    {
     "data": {
      "text/plain": [
       "644319"
      ]
     },
     "execution_count": 27,
     "metadata": {},
     "output_type": "execute_result"
    }
   ],
   "source": [
    "#check if every row has brand identified\n",
    "travix_base_df['Brand/Channel'].count()"
   ]
  },
  {
   "cell_type": "markdown",
   "metadata": {},
   "source": [
    "## Insurance Purchase"
   ]
  },
  {
   "cell_type": "code",
   "execution_count": 28,
   "metadata": {
    "scrolled": true
   },
   "outputs": [
    {
     "data": {
      "text/plain": [
       "0"
      ]
     },
     "execution_count": 28,
     "metadata": {},
     "output_type": "execute_result"
    }
   ],
   "source": [
    "# Creating a new column that indicates 1 if a customer bought insurance and 0 otherwise\n",
    "#setting insurance purchase to either 1 or zero\n",
    "travix_base_df['Insurance_purch'] = travix_base_df['PolicyType'].where (travix_base_df['PolicyType'].isnull(), 1).fillna(0).astype(int)\n",
    "#check if the new column is correct\n",
    "travix_base_df['PolicyType'].count() - travix_base_df['Insurance_purch'].sum()"
   ]
  },
  {
   "cell_type": "code",
   "execution_count": 29,
   "metadata": {},
   "outputs": [
    {
     "data": {
      "text/plain": [
       "False    529936\n",
       "True          0\n",
       "false    -57185\n",
       "fa       -57188\n",
       "Name: Insured, dtype: int64"
      ]
     },
     "execution_count": 29,
     "metadata": {},
     "output_type": "execute_result"
    }
   ],
   "source": [
    "#Check\n",
    "travix_base_df['Insured'].value_counts()-travix_base_df['Insurance_purch'].sum()"
   ]
  },
  {
   "cell_type": "markdown",
   "metadata": {},
   "source": [
    "## Test product"
   ]
  },
  {
   "cell_type": "code",
   "execution_count": 30,
   "metadata": {},
   "outputs": [],
   "source": [
    "#Remove test products \n",
    "travix_base_df.drop(travix_base_df[travix_base_df['Policy_type']=='test'].index, inplace=True)"
   ]
  },
  {
   "cell_type": "markdown",
   "metadata": {},
   "source": [
    "## Year, Month Week variables"
   ]
  },
  {
   "cell_type": "code",
   "execution_count": 31,
   "metadata": {},
   "outputs": [],
   "source": [
    "# create order month/year variable\n",
    "travix_base_df['Order_month'] = travix_base_df['OrderDateUTC'].dt.month\n",
    "travix_base_df['Order_year'] = travix_base_df['OrderDateUTC'].dt.year\n",
    "# create  order week variable\n",
    "travix_base_df['Orderweek'] = travix_base_df['OrderDateUTC'].dt.week\n",
    "# create order month and order year variable\n",
    "travix_base_df['YearMonth'] = travix_base_df['OrderDateUTC'].apply(lambda x:x.strftime('%Y-%m'))\n",
    "#create year and week variable\n",
    "travix_base_df['Yearweek'] = travix_base_df['OrderDateUTC'].apply(lambda x:x.strftime('%Y-%W'))"
   ]
  },
  {
   "cell_type": "code",
   "execution_count": 32,
   "metadata": {},
   "outputs": [],
   "source": [
    "#convert order_year to string (so as to be able to join a multiindex level when creating a pivot table)\n",
    "travix_base_df['Order_year']=travix_base_df['Order_year'].apply(str)"
   ]
  },
  {
   "cell_type": "markdown",
   "metadata": {},
   "source": [
    "## Duplicates"
   ]
  },
  {
   "cell_type": "code",
   "execution_count": 33,
   "metadata": {},
   "outputs": [],
   "source": [
    "#select data from the day we went live\n",
    "Tr_live_df = travix_base_df[travix_base_df['OrderDateUTC']>='2018-05-29 00:00:00']\n",
    "Tr_live_df=Tr_live_df.copy()"
   ]
  },
  {
   "cell_type": "code",
   "execution_count": 34,
   "metadata": {},
   "outputs": [
    {
     "data": {
      "text/plain": [
       "(644319, 65)"
      ]
     },
     "execution_count": 34,
     "metadata": {},
     "output_type": "execute_result"
    }
   ],
   "source": [
    "Tr_live_df.shape"
   ]
  },
  {
   "cell_type": "code",
   "execution_count": 35,
   "metadata": {},
   "outputs": [],
   "source": [
    "#select data before we went live\n",
    "Tr_B4_live= travix_base_df[travix_base_df['OrderDateUTC']<'2018-05-29 00:00:00']\n",
    "Tr_B4_live=Tr_B4_live.copy()"
   ]
  },
  {
   "cell_type": "code",
   "execution_count": 36,
   "metadata": {},
   "outputs": [],
   "source": [
    "#drop duplicates with the same ordernumber and policy type from the beggining of phase 1\n",
    "Tr_live_df.drop_duplicates(['OrderNumber', 'PolicyType'],keep='first',inplace=True)"
   ]
  },
  {
   "cell_type": "code",
   "execution_count": 37,
   "metadata": {},
   "outputs": [],
   "source": [
    "# create a list of columns which are constant per order number\n",
    "constant_columns = ['OrderNumber', 'OrderDateUTC', 'Brand/Channel', 'OneWayOrReturn', 'ReceivedDiscount','DepartureDate', 'ReturnDate', 'Duration',\n",
    "                    'Insured', 'Haul','SessionId', 'ChannelType', 'CustomerIdentifier', 'TotalNumberOfOrders', 'DomesticOrInternational',\n",
    "                     'Airline','NumberOfPassengers','NumberOfInfants','NumberOfChildren','NumberOfAdults', 'BookerDateOfBirth','OriginAirportCode',\n",
    "                   'FlewEconomyClass','FlewFirstClass','FlewBusinessClass','FlewPremiumEconomyClass','Order_year', 'Orderweek','Order_month', \n",
    "                    'PolicyNumber', 'Travix_booking', 'Insurance_purch','InsuranceSalesCurrency', 'OrderCanceled', 'Policy_type', 'YearMonth', 'Yearweek',\n",
    "                   'BookerCountry_Code','OriginCountryCode', 'DestinationAirportCode', 'DestinationCountryCode',\n",
    "                    'PolicyName', 'InsuranceStartDate', 'InsuranceEndDate', 'Supplier','PolicyNumber']                            "
   ]
  },
  {
   "cell_type": "code",
   "execution_count": 38,
   "metadata": {},
   "outputs": [],
   "source": [
    "#join the dataset with the constant columns\n",
    "excl_dups_df =Tr_live_df[constant_columns]\n",
    "# create index based on the 'OrderNumber' column\n",
    "excl_dups_df.set_index('OrderNumber', inplace=True)"
   ]
  },
  {
   "cell_type": "code",
   "execution_count": 39,
   "metadata": {},
   "outputs": [],
   "source": [
    "#create a new database with a list of names for columns to be summed per order number\n",
    "columns_to_sum = ['InsuranceCost_AdministrativeCost',\n",
    "                  'InsuranceCost_Premium', 'InsuranceCost_InsuranceTax',\n",
    "                  'InsuranceCost_AdditionalCoverageCost', 'TotalInsuranceCost',\n",
    "                  'InsuredAmount','TotalTicketSale_EUR']                             "
   ]
  },
  {
   "cell_type": "code",
   "execution_count": 40,
   "metadata": {},
   "outputs": [],
   "source": [
    "# create a new dataframe with sums for each order number\n",
    "sums_excl_df =Tr_live_df.groupby('OrderNumber')[columns_to_sum].sum()"
   ]
  },
  {
   "cell_type": "code",
   "execution_count": 41,
   "metadata": {},
   "outputs": [
    {
     "data": {
      "text/plain": [
       "CANCELLATION-INSURANCE        12383\n",
       "HEPSTAR-CANCELLATION           9699\n",
       "COMBINED-INSURANCE             2327\n",
       "HEPSTAR-TRAVELCANCELLATION     1980\n",
       "TRAVEL-INSURANCE               1909\n",
       "HEPSTAR-TRAVEL                 1836\n",
       "EXTRAS                          799\n",
       "Cancellation Insurance            4\n",
       "Travel Insurance                  1\n",
       "Name: PolicyType, dtype: int64"
      ]
     },
     "execution_count": 41,
     "metadata": {},
     "output_type": "execute_result"
    }
   ],
   "source": [
    "Tr_live_df['PolicyType'].value_counts()"
   ]
  },
  {
   "cell_type": "code",
   "execution_count": 42,
   "metadata": {},
   "outputs": [],
   "source": [
    " #MERGE CONSTANT AND TRANSFORMED DATASETS\n",
    "# merge the base data frame with the one containing sums\n",
    "excl_dups_df = excl_dups_df.merge(sums_excl_df, left_index=True, right_index=True)"
   ]
  },
  {
   "cell_type": "code",
   "execution_count": 43,
   "metadata": {},
   "outputs": [],
   "source": [
    "#Reset index so as to merge the two different datasets\n",
    "excl_dups_df.reset_index(inplace=True)"
   ]
  },
  {
   "cell_type": "code",
   "execution_count": 44,
   "metadata": {},
   "outputs": [],
   "source": [
    "#drop duplicates by ordernumber\n",
    "excl_dups_df.drop_duplicates(['OrderNumber'],keep='first',inplace=True)"
   ]
  },
  {
   "cell_type": "code",
   "execution_count": 45,
   "metadata": {},
   "outputs": [],
   "source": [
    "#output_df[output_df['Policy_names']=='HEPSTAR-TRAVEL + HEPSTAR-TRAVELCANCELLATION']['OrderNumber']"
   ]
  },
  {
   "cell_type": "code",
   "execution_count": 46,
   "metadata": {},
   "outputs": [
    {
     "name": "stderr",
     "output_type": "stream",
     "text": [
      "C:\\Users\\BI-LOCAL\\Anaconda3\\lib\\site-packages\\ipykernel_launcher.py:2: FutureWarning: The join_axes-keyword is deprecated. Use .reindex or .reindex_like on the result to achieve the same functionality.\n",
      "  \n"
     ]
    }
   ],
   "source": [
    "#Merge the two dataset (before and after we went live)\n",
    "Travix_data = pd.concat([excl_dups_df,Tr_B4_live], join_axes = [excl_dups_df.columns])"
   ]
  },
  {
   "cell_type": "code",
   "execution_count": 47,
   "metadata": {},
   "outputs": [
    {
     "data": {
      "text/plain": [
       "(502579, 53)"
      ]
     },
     "execution_count": 47,
     "metadata": {},
     "output_type": "execute_result"
    }
   ],
   "source": [
    "Travix_data.shape"
   ]
  },
  {
   "cell_type": "markdown",
   "metadata": {},
   "source": [
    "## Travix revenue"
   ]
  },
  {
   "cell_type": "code",
   "execution_count": 48,
   "metadata": {},
   "outputs": [],
   "source": [
    "#Calculate 58% Insurance premium\n",
    "Travix_data['58%Insurance_Premium']=0.58*Travix_data['InsuranceCost_Premium']"
   ]
  },
  {
   "cell_type": "code",
   "execution_count": 49,
   "metadata": {},
   "outputs": [
    {
     "data": {
      "text/html": [
       "<div>\n",
       "<style scoped>\n",
       "    .dataframe tbody tr th:only-of-type {\n",
       "        vertical-align: middle;\n",
       "    }\n",
       "\n",
       "    .dataframe tbody tr th {\n",
       "        vertical-align: top;\n",
       "    }\n",
       "\n",
       "    .dataframe thead th {\n",
       "        text-align: right;\n",
       "    }\n",
       "</style>\n",
       "<table border=\"1\" class=\"dataframe\">\n",
       "  <thead>\n",
       "    <tr style=\"text-align: right;\">\n",
       "      <th></th>\n",
       "      <th>58%Insurance_Premium</th>\n",
       "      <th>InsuranceCost_Premium</th>\n",
       "    </tr>\n",
       "  </thead>\n",
       "  <tbody>\n",
       "    <tr>\n",
       "      <td>0</td>\n",
       "      <td>0.0</td>\n",
       "      <td>0.0</td>\n",
       "    </tr>\n",
       "    <tr>\n",
       "      <td>1</td>\n",
       "      <td>0.0</td>\n",
       "      <td>0.0</td>\n",
       "    </tr>\n",
       "    <tr>\n",
       "      <td>2</td>\n",
       "      <td>0.0</td>\n",
       "      <td>0.0</td>\n",
       "    </tr>\n",
       "    <tr>\n",
       "      <td>3</td>\n",
       "      <td>0.0</td>\n",
       "      <td>0.0</td>\n",
       "    </tr>\n",
       "    <tr>\n",
       "      <td>4</td>\n",
       "      <td>0.0</td>\n",
       "      <td>0.0</td>\n",
       "    </tr>\n",
       "  </tbody>\n",
       "</table>\n",
       "</div>"
      ],
      "text/plain": [
       "   58%Insurance_Premium  InsuranceCost_Premium\n",
       "0                   0.0                    0.0\n",
       "1                   0.0                    0.0\n",
       "2                   0.0                    0.0\n",
       "3                   0.0                    0.0\n",
       "4                   0.0                    0.0"
      ]
     },
     "execution_count": 49,
     "metadata": {},
     "output_type": "execute_result"
    }
   ],
   "source": [
    "#check\n",
    "test= Travix_data[['58%Insurance_Premium', 'InsuranceCost_Premium']]\n",
    "test[test.InsuranceCost_Premium.notnull()].head(5)"
   ]
  },
  {
   "cell_type": "code",
   "execution_count": 50,
   "metadata": {},
   "outputs": [
    {
     "data": {
      "text/plain": [
       "6    502579\n",
       "Name: Masterpolicy_fee, dtype: int64"
      ]
     },
     "execution_count": 50,
     "metadata": {},
     "output_type": "execute_result"
    }
   ],
   "source": [
    "#function to add a columns with masterpolicyfee\n",
    "Travix_data['Masterpolicy_fee'] = Travix_data['Policy_type'].where (Travix_data['Policy_type'].isnull(), 6).fillna(0).astype(int)\n",
    "Travix_data['Masterpolicy_fee'].value_counts()"
   ]
  },
  {
   "cell_type": "code",
   "execution_count": 51,
   "metadata": {},
   "outputs": [],
   "source": [
    "#function to add a columns indicating the phase in which the orders occured\n",
    "def Travix_Phase(Travix_data):\n",
    "    if Travix_data['OrderDateUTC'] >= Start_date:\n",
    "        return 'Phase1&2'\n",
    "    else:\n",
    "        return 'Phase0'\n",
    "Travix_data['Phase'] = Travix_data.apply (lambda row: Travix_Phase (row),axis=1)"
   ]
  },
  {
   "cell_type": "code",
   "execution_count": 52,
   "metadata": {},
   "outputs": [],
   "source": [
    "#function to add a columns with masterpolicyfee without tax (at the beginning of Phase 2a going onwards)\n",
    "def MP_fee_exc_tax(Travix_data):\n",
    "    if (Travix_data['Insurance_purch'] == 1) and (Travix_data['OrderDateUTC']>= Start_date):\n",
    "        return 5.8\n",
    "    if (Travix_data['Insurance_purch'] == 1) and (Travix_data['OrderDateUTC']< Start_date):\n",
    "        return 6\n",
    "    else:\n",
    "        return 0\n",
    "Travix_data['MP_fee_exc_tax&HS'] = Travix_data.apply (lambda row: MP_fee_exc_tax (row),axis=1)"
   ]
  },
  {
   "cell_type": "code",
   "execution_count": 53,
   "metadata": {},
   "outputs": [
    {
     "data": {
      "text/plain": [
       "0.0    471642\n",
       "5.8     30937\n",
       "Name: MP_fee_exc_tax&HS, dtype: int64"
      ]
     },
     "execution_count": 53,
     "metadata": {},
     "output_type": "execute_result"
    }
   ],
   "source": [
    "Travix_data['MP_fee_exc_tax&HS'].value_counts()"
   ]
  },
  {
   "cell_type": "code",
   "execution_count": 54,
   "metadata": {},
   "outputs": [
    {
     "data": {
      "text/plain": [
       "0    471642\n",
       "1     30937\n",
       "Name: Insurance_purch, dtype: int64"
      ]
     },
     "execution_count": 54,
     "metadata": {},
     "output_type": "execute_result"
    }
   ],
   "source": [
    "Travix_data['Insurance_purch'].value_counts()"
   ]
  },
  {
   "cell_type": "code",
   "execution_count": 55,
   "metadata": {},
   "outputs": [],
   "source": [
    "# Travix Revenue\n",
    "Travix_data['Travix_revenue']= Travix_data['MP_fee_exc_tax&HS']+Travix_data['58%Insurance_Premium']"
   ]
  },
  {
   "cell_type": "code",
   "execution_count": 56,
   "metadata": {},
   "outputs": [],
   "source": [
    "#create a column indicating the total retail value\n",
    "Travix_data['TotalRetail_value']=Travix_data['TotalInsuranceCost']"
   ]
  },
  {
   "cell_type": "markdown",
   "metadata": {},
   "source": [
    "## Cancelled Orders"
   ]
  },
  {
   "cell_type": "code",
   "execution_count": 57,
   "metadata": {},
   "outputs": [
    {
     "data": {
      "text/plain": [
       "False    485720\n",
       "True      16858\n",
       "Name: OrderCanceled, dtype: int64"
      ]
     },
     "execution_count": 57,
     "metadata": {},
     "output_type": "execute_result"
    }
   ],
   "source": [
    "Travix_data['OrderCanceled'].value_counts()"
   ]
  },
  {
   "cell_type": "code",
   "execution_count": 58,
   "metadata": {},
   "outputs": [],
   "source": [
    "# Removing Cancelled Orders starting from phase 1 going onwards\n",
    "#function to add a columns that indicates if a policy was cancelled or not\n",
    "def Order_cancelled(Travix_data):\n",
    "    if (Travix_data['OrderCanceled'] == True) and (Travix_data['OrderDateUTC']>= Start_date):\n",
    "        return True\n",
    "    else:\n",
    "        return False\n",
    "Travix_data['CancelledOrders_Phase1&2'] = Travix_data.apply (lambda row: Order_cancelled (row),axis=1)"
   ]
  },
  {
   "cell_type": "code",
   "execution_count": 59,
   "metadata": {},
   "outputs": [
    {
     "data": {
      "text/plain": [
       "False    485721\n",
       "True      16858\n",
       "Name: CancelledOrders_Phase1&2, dtype: int64"
      ]
     },
     "execution_count": 59,
     "metadata": {},
     "output_type": "execute_result"
    }
   ],
   "source": [
    "Travix_data['CancelledOrders_Phase1&2'].value_counts()"
   ]
  },
  {
   "cell_type": "code",
   "execution_count": 60,
   "metadata": {},
   "outputs": [
    {
     "data": {
      "text/plain": [
       "False    485720\n",
       "True      16858\n",
       "Name: OrderCanceled, dtype: int64"
      ]
     },
     "execution_count": 60,
     "metadata": {},
     "output_type": "execute_result"
    }
   ],
   "source": [
    "#Check\n",
    "Travix_data[Travix_data['Phase']=='Phase1&2']['OrderCanceled'].value_counts()"
   ]
  },
  {
   "cell_type": "code",
   "execution_count": 61,
   "metadata": {},
   "outputs": [],
   "source": [
    "#drop cancelled orders in Phase 1&2\n",
    "#travix_base_df.drop(travix_base_df[travix_base_df['CancelledOrders_Phase1&2']==True].index, inplace=True)"
   ]
  },
  {
   "cell_type": "code",
   "execution_count": 62,
   "metadata": {},
   "outputs": [
    {
     "data": {
      "text/plain": [
       "False    485721\n",
       "True      16858\n",
       "Name: CancelledOrders_Phase1&2, dtype: int64"
      ]
     },
     "execution_count": 62,
     "metadata": {},
     "output_type": "execute_result"
    }
   ],
   "source": [
    "#Check\n",
    "Travix_data['CancelledOrders_Phase1&2'].value_counts()"
   ]
  },
  {
   "cell_type": "markdown",
   "metadata": {},
   "source": [
    "# Create a pivot table"
   ]
  },
  {
   "cell_type": "code",
   "execution_count": 63,
   "metadata": {},
   "outputs": [],
   "source": [
    "#select columns for the pivot table\n",
    "clmns_to_keep_df=Travix_data[['OrderDateUTC','Order_year','Order_month','Orderweek','Haul','Policy_type','PolicyName','Insurance_purch','Travix_booking','58%Insurance_Premium', 'Brand/Channel', 'Travix_revenue', 'MP_fee_exc_tax&HS', 'CancelledOrders_Phase1&2', 'TotalRetail_value', 'OneWayOrReturn']]"
   ]
  },
  {
   "cell_type": "code",
   "execution_count": 64,
   "metadata": {},
   "outputs": [],
   "source": [
    "#segment data per orderdate, year, week, haul and policy type\n",
    "travix_pivot_df=clmns_to_keep_df.pivot_table(index=['OrderDateUTC','Order_year','Order_month','Orderweek','CancelledOrders_Phase1&2','Haul', 'Brand/Channel','Policy_type','OneWayOrReturn'], aggfunc='sum')"
   ]
  },
  {
   "cell_type": "code",
   "execution_count": 65,
   "metadata": {},
   "outputs": [],
   "source": [
    "travix_pivot_df.reset_index(inplace=True)"
   ]
  },
  {
   "cell_type": "code",
   "execution_count": 73,
   "metadata": {},
   "outputs": [
    {
     "data": {
      "text/plain": [
       "2019    12085\n",
       "2020     3843\n",
       "Name: Order_year, dtype: int64"
      ]
     },
     "execution_count": 73,
     "metadata": {},
     "output_type": "execute_result"
    }
   ],
   "source": [
    "travix_pivot_df['Order_year'].value_counts()"
   ]
  },
  {
   "cell_type": "code",
   "execution_count": 72,
   "metadata": {},
   "outputs": [],
   "source": [
    "travix_pivot_df = travix_pivot_df[travix_pivot_df['Order_year']!='2018']"
   ]
  },
  {
   "cell_type": "markdown",
   "metadata": {},
   "source": [
    "# Export data"
   ]
  },
  {
   "cell_type": "code",
   "execution_count": 74,
   "metadata": {},
   "outputs": [],
   "source": [
    "#export to bi-report drive\n",
    "travix_pivot_df.to_csv(export_BI_drive+'Travix YoY Data excluding duplicates_Split Combi products.csv')"
   ]
  },
  {
   "cell_type": "code",
   "execution_count": null,
   "metadata": {},
   "outputs": [],
   "source": []
  }
 ],
 "metadata": {
  "kernelspec": {
   "display_name": "Python 3",
   "language": "python",
   "name": "python3"
  },
  "language_info": {
   "codemirror_mode": {
    "name": "ipython",
    "version": 3
   },
   "file_extension": ".py",
   "mimetype": "text/x-python",
   "name": "python",
   "nbconvert_exporter": "python",
   "pygments_lexer": "ipython3",
   "version": "3.7.4"
  },
  "toc": {
   "base_numbering": 1,
   "nav_menu": {},
   "number_sections": true,
   "sideBar": true,
   "skip_h1_title": false,
   "title_cell": "Table of Contents",
   "title_sidebar": "Contents",
   "toc_cell": false,
   "toc_position": {
    "height": "calc(100% - 180px)",
    "left": "10px",
    "top": "150px",
    "width": "291px"
   },
   "toc_section_display": true,
   "toc_window_display": true
  }
 },
 "nbformat": 4,
 "nbformat_minor": 2
}
